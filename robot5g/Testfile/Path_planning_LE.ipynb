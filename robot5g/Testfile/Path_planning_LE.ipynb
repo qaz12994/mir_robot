{
 "cells": [
  {
   "cell_type": "code",
   "execution_count": 1,
   "metadata": {},
   "outputs": [],
   "source": [
    "import matplotlib.pyplot as plt\n",
    "import numpy as np"
   ]
  },
  {
   "cell_type": "code",
   "execution_count": 2,
   "metadata": {},
   "outputs": [],
   "source": [
    "psin = np.load('in.npy')\n",
    "psx = np.load('x.npy')\n",
    "psy = np.load('y.npy')"
   ]
  },
  {
   "cell_type": "code",
   "execution_count": null,
   "metadata": {},
   "outputs": [],
   "source": [
    "class window:\n",
    "    def __init__(self, pin, px, py):\n",
    "        self.pin = pin\n",
    "        self.px = px\n",
    "        self.py = py\n",
    "        self.all_true_p = self.true_list()\n",
    "        \n",
    "        \n",
    "    def true_list(self):\n",
    "        y, x = np.where(psin==True)\n",
    "        return list(zip(x, y))\n",
    "        \n",
    "    def get_around(self, x, y):\n",
    "        return [(i, j) for i in range(max(0, x - 1), min(self.pin.shape[1] - 1, x + 1) + 1)\n",
    "                for j in range(max(0, y - 1), min(self.pin.shape[0] - 1, y + 1) + 1) if i != x or j != y]\n",
    "    \n",
    "    def get_around_true8(x1,y1):\n",
    "        a = [x for x in true_list if x in get_around(x1,y1)]\n",
    "        return a\n",
    "        "
   ]
  },
  {
   "cell_type": "code",
   "execution_count": 3,
   "metadata": {},
   "outputs": [],
   "source": [
    "# 取得(x, y)周圍8個點的座標\n",
    "# 這裡注意，range 末尾是開區間，所以要加 1\n",
    "def get_around(x, y):\n",
    "    return [(i, j) for i in range(max(0, x - 1), min(psin.shape[1] - 1, x + 1) + 1)\n",
    "            for j in range(max(0, y - 1), min(psin.shape[0] - 1, y + 1) + 1) if i != x or j != y]\n",
    "\n",
    "# 取得目前所在座標點的周圍true點(周圍8點中，找到也是true的點)\n",
    "def get_around_true8(x1,y1):\n",
    "    a = [x for x in true_list if x in get_around(x1,y1)]\n",
    "    return a\n",
    "\n",
    "# 取得目前所在座標點的周圍true點(周圍4點中，找到也是true的點)\n",
    "def get_around_true4(x1,y1):\n",
    "    a = [x for x in true_list if x in get_between_xy(x1,y1)]\n",
    "    return a\n",
    "\n",
    "# 取得x方向左右兩個座標\n",
    "def get_between_x(x, y):\n",
    "    return [(i, y) for i in range(max(0, x - 1), min(psin.shape[1] - 1, x + 1) + 1) if i != x]\n",
    "\n",
    "# 取得y方向上下兩個座標\n",
    "def get_between_y(x, y):\n",
    "    return [(x, j) for j in range(max(0, y - 1), min(psin.shape[0] - 1, y + 1) + 1) if j != y]\n",
    "\n",
    "# 取得座標(x,y)上下左右四個座標\n",
    "def get_between_xy(x,y):\n",
    "    return(get_between_x(x,y) + get_between_y(x,y))"
   ]
  },
  {
   "cell_type": "code",
   "execution_count": null,
   "metadata": {},
   "outputs": [],
   "source": []
  },
  {
   "cell_type": "code",
   "execution_count": 4,
   "metadata": {},
   "outputs": [],
   "source": [
    "# 每個true點的cost\n",
    "def Path_cost():\n",
    "    Dict={}\n",
    "    true_list=[]\n",
    "    for y in range(psin.shape[0]):\n",
    "        for x in range(psin.shape[1]):\n",
    "            if psin[y][x] == True:\n",
    "                true_list.append((x,y))\n",
    "                a = get_around(x,y)\n",
    "                count = 0\n",
    "                for xx, yy in a:\n",
    "                    if psin[yy][xx] == False:\n",
    "                        count += 1\n",
    "                Dict[(x,y)]=count\n",
    "    return Dict"
   ]
  },
  {
   "cell_type": "code",
   "execution_count": 5,
   "metadata": {},
   "outputs": [],
   "source": [
    "# 所有true點的index\n",
    "def true_list():\n",
    "    true_list=[]\n",
    "    for y in range(psin.shape[0]):\n",
    "        for x in range(psin.shape[1]):\n",
    "            if psin[y][x] == True:\n",
    "#             print(f'({x},{y})')\n",
    "                true_list.append((x,y))\n",
    "    return true_list"
   ]
  },
  {
   "cell_type": "code",
   "execution_count": 6,
   "metadata": {},
   "outputs": [],
   "source": [
    "# 從true_list的第一個座標為起始點，取得其周圍的true點\n",
    "pc = Path_cost()\n",
    "def next_step(x,y):\n",
    "    List=[]\n",
    "    a = get_around_true4(x,y)\n",
    "    for xx, yy in a:\n",
    "        pc[(xx,yy)] += 1  # 將周圍的true點的cost +1\n",
    "        d = pc[(xx,yy)]\n",
    "        List.append(d)\n",
    "    \n",
    "    if List:\n",
    "        Max_List = List.index(max(List))\n",
    "        true_list.remove((x,y))\n",
    "        return a[Max_List]\n",
    "    else:\n",
    "        try:\n",
    "            true_list.remove((x,y))\n",
    "            return true_list[0]\n",
    "        except:\n",
    "            pass"
   ]
  },
  {
   "cell_type": "code",
   "execution_count": 7,
   "metadata": {},
   "outputs": [],
   "source": [
    "\n",
    "# 所有點要走的順序\n",
    "true_list=true_list()\n",
    "path_sequence = []\n",
    "path_sequence.append(true_list[0])\n",
    "\n",
    "a = next_step(true_list[0][0],true_list[0][1])\n",
    "path_sequence.append(a)\n",
    "\n",
    "while true_list:\n",
    "# for _ in range (len(true_list)):\n",
    "    b = next_step(a[0],a[1])\n",
    "    if b is not None:\n",
    "        path_sequence.append(b)\n",
    "        a = b"
   ]
  },
  {
   "cell_type": "code",
   "execution_count": 10,
   "metadata": {},
   "outputs": [
    {
     "data": {
      "text/plain": [
       "list"
      ]
     },
     "execution_count": 10,
     "metadata": {},
     "output_type": "execute_result"
    }
   ],
   "source": [
    "type(path_sequence)"
   ]
  },
  {
   "cell_type": "code",
   "execution_count": 11,
   "metadata": {},
   "outputs": [
    {
     "data": {
      "text/plain": [
       "1"
      ]
     },
     "execution_count": 11,
     "metadata": {},
     "output_type": "execute_result"
    }
   ],
   "source": [
    "path_sequence[0][0]"
   ]
  },
  {
   "cell_type": "code",
   "execution_count": 12,
   "metadata": {},
   "outputs": [],
   "source": [
    "p1, p2 = [], []\n",
    "for px, py in path_sequence:\n",
    "    p1.append(px)\n",
    "    p2.append(py)"
   ]
  },
  {
   "cell_type": "code",
   "execution_count": 13,
   "metadata": {},
   "outputs": [
    {
     "data": {
      "text/plain": [
       "[<matplotlib.lines.Line2D at 0x26a186f43a0>]"
      ]
     },
     "execution_count": 13,
     "metadata": {},
     "output_type": "execute_result"
    },
    {
     "data": {
      "image/png": "[encoded data removed]",
      "text/plain": [
       "<Figure size 432x288 with 1 Axes>"
      ]
     },
     "metadata": {
      "needs_background": "light"
     },
     "output_type": "display_data"
    }
   ],
   "source": [
    "# 创建绘图图表对象，可以不显式创建，跟cv2中的cv2.namedWindow()用法差不多\n",
    "# plt.figure('Draw')\n",
    " \n",
    "plt.scatter(p1,p2)  # scatter绘制散点图\n",
    "plt.plot(p1,p2,\"r-\")\n",
    " \n",
    "# plt.draw()  # 显示绘图\n",
    "# plt.show()"
   ]
  },
  {
   "cell_type": "code",
   "execution_count": 14,
   "metadata": {},
   "outputs": [
    {
     "data": {
      "image/png": "[encoded data removed]",
      "text/plain": [
       "<Figure size 432x288 with 1 Axes>"
      ]
     },
     "metadata": {
      "needs_background": "light"
     },
     "output_type": "display_data"
    }
   ],
   "source": [
    "# 创建绘图图表对象，可以不显式创建，跟cv2中的cv2.namedWindow()用法差不多\n",
    "plt.figure('Draw')\n",
    " \n",
    "# plt.scatter(p1,p2)  # scatter绘制散点图\n",
    "plt.plot(p1,p2,\"r-\")\n",
    " \n",
    "# plt.draw()  # 显示绘图\n",
    "plt.show()"
   ]
  },
  {
   "cell_type": "code",
   "execution_count": 58,
   "metadata": {},
   "outputs": [],
   "source": [
    "point_x,point_y = [],[]\n",
    "for px,py in path_sequence:\n",
    "    point_x.append(psx[py][px])\n",
    "    point_y.append(psy[py][px])"
   ]
  },
  {
   "cell_type": "code",
   "execution_count": 61,
   "metadata": {},
   "outputs": [
    {
     "data": {
      "text/plain": [
       "[<matplotlib.lines.Line2D at 0x26a198a2190>]"
      ]
     },
     "execution_count": 61,
     "metadata": {},
     "output_type": "execute_result"
    },
    {
     "data": {
      "image/png": "[encoded data removed]",
      "text/plain": [
       "<Figure size 432x288 with 1 Axes>"
      ]
     },
     "metadata": {
      "needs_background": "light"
     },
     "output_type": "display_data"
    }
   ],
   "source": [
    "plt.plot(point_x, point_y)"
   ]
  },
  {
   "cell_type": "code",
   "execution_count": null,
   "metadata": {},
   "outputs": [],
   "source": []
  }
 ],
 "metadata": {
  "kernelspec": {
   "display_name": "Python 3",
   "language": "python",
   "name": "python3"
  },
  "language_info": {
   "codemirror_mode": {
    "name": "ipython",
    "version": 3
   },
   "file_extension": ".py",
   "mimetype": "text/x-python",
   "name": "python",
   "nbconvert_exporter": "python",
   "pygments_lexer": "ipython3",
   "version": "3.6.9"
  },
  "pycharm": {
   "stem_cell": {
    "cell_type": "raw",
    "source": [],
    "metadata": {
     "collapsed": false
    }
   }
  }
 },
 "nbformat": 4,
 "nbformat_minor": 4
}